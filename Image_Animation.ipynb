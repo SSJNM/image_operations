{
 "cells": [
  {
   "cell_type": "code",
   "execution_count": 10,
   "metadata": {},
   "outputs": [],
   "source": [
    "import cv2\n",
    "import matplotlib.pyplot as plt\n",
    "import time\n",
    "import numpy as np"
   ]
  },
  {
   "cell_type": "code",
   "execution_count": 11,
   "metadata": {},
   "outputs": [],
   "source": [
    "#Creating an image on my own and animation\n",
    "white_background = np.zeros((1000,1000,3), dtype='uint8')\n",
    "#white_background[:,:] =  [255,255,255] \n",
    "\n",
    "#Starting the loop\n",
    "i=0\n",
    "while i < 500:\n",
    "    cv2.line(white_background,(500+i,0),(500+i,1000),(255,255,255),thickness=6)\n",
    "    cv2.line(white_background,(500-i,0),(500-i,1000),(255,255,255),thickness=6)\n",
    "    cv2.imshow(\"Menu\", white_background)\n",
    "    if cv2.waitKey(50) == 27:\n",
    "        cv2.destroyAllWindows()\n",
    "        break\n",
    "    i += 5\n",
    "\n",
    "i = 1\n",
    "down = 0\n",
    "up = 0\n",
    "while i < 20:\n",
    "\n",
    "    cv2.line(white_background,(100 ,250 + down - 100),(250 ,250 + down - 100),(0,0,60+down),thickness=i)\n",
    "    cv2.line(white_background,(175 ,250 + down - 100),(175 ,450 + down - 100),(0,0,60+down),thickness=i)\n",
    "    cv2.line(white_background,(100 ,450 + down - 100),(250 ,450 + down - 100),(0,0,60+down),thickness=i)\n",
    "\n",
    "    cv2.line(white_background,(300,250-up+250),(450,250-up+250),(0,0,60+up),thickness=i)\n",
    "    cv2.line(white_background,(375,250-up+250),(375,450-up+250),(0,0,60+up),thickness=i)\n",
    "    cv2.line(white_background,(300,450-up+250),(450,450-up+250),(0,0,60+up),thickness=i)\n",
    "\n",
    "    cv2.line(white_background,(550,250 + down-100),(550,450 + down-100),(0,0,60+down),thickness=i)\n",
    "    cv2.line(white_background,(550,250 + down-100),(650,250 + down-100),(0,0,60+down),thickness=i)\n",
    "    cv2.line(white_background,(550,350 + down-100),(650,350 + down-100),(0,0,60+down),thickness=i)\n",
    "    cv2.line(white_background,(550,450 + down-100),(650,450 + down-100),(0,0,60+down),thickness=i)\n",
    "\n",
    "    cv2.line(white_background,(700,250-up+250),(700,450-up+250),(0,0,60+up),thickness=i)\n",
    "    cv2.line(white_background,(700,250-up+250),(850,250-up+250),(0,0,60+up),thickness=i)\n",
    "    cv2.line(white_background,(700,450-up+250),(850,450-up+250),(0,0,60+up),thickness=i)\n",
    "    cv2.imshow(\"Menu\", white_background)\n",
    "    if cv2.waitKey(50) == 27:\n",
    "        cv2.destroyAllWindows()\n",
    "        break\n",
    "    i += 1\n",
    "    down += 10\n",
    "    up += 10\n",
    "i = 0\n",
    "time.sleep(2)\n",
    "while i < 500:\n",
    "    cv2.line(white_background,(i,0),(i,1000),(255,255,255),thickness=6)\n",
    "    cv2.line(white_background,(1000-i,0),(1000-i,1000),(255,255,255),thickness=6)\n",
    "    cv2.imshow(\"Menu\", white_background)\n",
    "    if cv2.waitKey(50) == 27:\n",
    "        cv2.destroyAllWindows()\n",
    "        break\n",
    "    i += 5\n",
    "cv2.destroyAllWindows()"
   ]
  },
  {
   "cell_type": "code",
   "execution_count": null,
   "metadata": {},
   "outputs": [],
   "source": [
    "#The animation one is done"
   ]
  }
 ],
 "metadata": {
  "kernelspec": {
   "display_name": "Python 3",
   "language": "python",
   "name": "python3"
  },
  "language_info": {
   "codemirror_mode": {
    "name": "ipython",
    "version": 3
   },
   "file_extension": ".py",
   "mimetype": "text/x-python",
   "name": "python",
   "nbconvert_exporter": "python",
   "pygments_lexer": "ipython3",
   "version": "3.7.7"
  }
 },
 "nbformat": 4,
 "nbformat_minor": 4
}
